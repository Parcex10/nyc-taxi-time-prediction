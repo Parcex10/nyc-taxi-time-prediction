{
 "cells": [
  {
   "cell_type": "code",
   "execution_count": 2,
   "id": "initial_id",
   "metadata": {},
   "outputs": [
    {
     "name": "stdout",
     "output_type": "stream",
     "text": [
      "  % Total    % Received % Xferd  Average Speed   Time    Time     Time  Current\n",
      "                                 Dload  Upload   Total   Spent    Left  Speed\n",
      "100 1330k  100 1330k    0     0  4084k      0 --:--:-- --:--:-- --:--:-- 4093k\n",
      "  % Total    % Received % Xferd  Average Speed   Time    Time     Time  Current\n",
      "                                 Dload  Upload   Total   Spent    Left  Speed\n",
      "100 1253k  100 1253k    0     0  4276k      0 --:--:-- --:--:-- --:--:-- 4264k\n"
     ]
    }
   ],
   "source": [
    "# Create the directory if it doesn't exist\n",
    "!mkdir -p ../data\n",
    "\n",
    "# Download files using curl\n",
    "!curl -o ../data/green_tripdata_2024-01.parquet https://d37ci6vzurychx.cloudfront.net/trip-data/green_tripdata_2024-01.parquet\n",
    "!curl -o ../data/green_tripdata_2024-02.parquet https://d37ci6vzurychx.cloudfront.net/trip-data/green_tripdata_2024-02.parquet"
   ]
  },
  {
   "cell_type": "code",
   "execution_count": 4,
   "id": "7ea0b2ab-c555-4c2b-a372-3dbe80ca210d",
   "metadata": {},
   "outputs": [],
   "source": [
    "import pickle\n",
    "import pandas as pd\n",
    "from sklearn.metrics import  root_mean_squared_error\n",
    "from sklearn.feature_extraction import  DictVectorizer\n",
    "from sklearn.linear_model import Lasso, Ridge, LinearRegression"
   ]
  },
  {
   "cell_type": "code",
   "execution_count": 6,
   "id": "1fe896d6-f13e-4369-9ddb-bb3f8c9debb9",
   "metadata": {},
   "outputs": [],
   "source": [
    "def read_dataframe(filename):\n",
    "\n",
    "    df = pd.read_parquet(filename)\n",
    "\n",
    "    df['duration'] = df.lpep_dropoff_datetime - df.lpep_pickup_datetime\n",
    "    df.duration = df.duration.apply(lambda td: td.total_seconds() / 60)\n",
    "\n",
    "    df = df[(df.duration >= 1) & (df.duration <= 60)]\n",
    "\n",
    "    categorical = ['PULocationID', 'DOLocationID']\n",
    "    df[categorical] = df[categorical].astype(str)\n",
    "\n",
    "    return df"
   ]
  },
  {
   "cell_type": "code",
   "execution_count": 8,
   "id": "b6ea475f-c5cb-443c-9b14-50d44ab15110",
   "metadata": {},
   "outputs": [],
   "source": [
    "df_train = read_dataframe('../data/green_tripdata_2024-01.parquet')\n",
    "df_val = read_dataframe('../data/green_tripdata_2024-02.parquet')"
   ]
  },
  {
   "cell_type": "code",
   "execution_count": 10,
   "id": "63201513-17dc-4a8b-b2f7-32ef70fddf3a",
   "metadata": {},
   "outputs": [],
   "source": [
    "df_train['PU_DO'] = df_train['PULocationID'] + '_' + df_train['DOLocationID']\n",
    "df_val['PU_DO'] = df_val['PULocationID'] + '_' + df_val['DOLocationID']"
   ]
  },
  {
   "cell_type": "code",
   "execution_count": 12,
   "id": "a8e63d06-23d1-4ffa-b00d-24086126d0a7",
   "metadata": {},
   "outputs": [],
   "source": [
    "categorical = ['PU_DO']  #'PULocationID', 'DOLocationID']\n",
    "numerical = ['trip_distance']\n",
    "dv = DictVectorizer()\n",
    "\n",
    "train_dicts = df_train[categorical + numerical].to_dict(orient='records')\n",
    "X_train = dv.fit_transform(train_dicts)\n",
    "\n",
    "val_dicts = df_val[categorical + numerical].to_dict(orient='records')\n",
    "X_val = dv.transform(val_dicts)"
   ]
  },
  {
   "cell_type": "code",
   "execution_count": 14,
   "id": "92e5bf35-8ad5-4ee2-9dac-814e7c94682d",
   "metadata": {},
   "outputs": [],
   "source": [
    "target = 'duration'\n",
    "y_train = df_train[target].values\n",
    "y_val = df_val[target].values"
   ]
  },
  {
   "cell_type": "code",
   "execution_count": 19,
   "id": "996082ee-891e-4046-a672-59f0a5cbfc71",
   "metadata": {},
   "outputs": [
    {
     "name": "stdout",
     "output_type": "stream",
     "text": [
      "Traceback (most recent call last):\n",
      "  File \"/Users/carlosmoreno/Desktop/ITESO/5to SEMESTRE/Proyecto de Ciencia de Datos/PycharmProjects /ProyCienDatos2024-2/.venv/bin/pip\", line 7, in <module>\n",
      "    from pip._internal.cli.main import main\n",
      "  File \"/Users/carlosmoreno/Desktop/ITESO/5to SEMESTRE/Proyecto de Ciencia de Datos/PycharmProjects /ProyCienDatos2024-2/.venv/lib/python3.9/site-packages/pip/_internal/cli/main.py\", line 11, in <module>\n",
      "    from pip._internal.cli.autocompletion import autocomplete\n",
      "  File \"/Users/carlosmoreno/Desktop/ITESO/5to SEMESTRE/Proyecto de Ciencia de Datos/PycharmProjects /ProyCienDatos2024-2/.venv/lib/python3.9/site-packages/pip/_internal/cli/autocompletion.py\", line 10, in <module>\n",
      "    from pip._internal.cli.main_parser import create_main_parser\n",
      "  File \"/Users/carlosmoreno/Desktop/ITESO/5to SEMESTRE/Proyecto de Ciencia de Datos/PycharmProjects /ProyCienDatos2024-2/.venv/lib/python3.9/site-packages/pip/_internal/cli/main_parser.py\", line 9, in <module>\n",
      "    from pip._internal.build_env import get_runnable_pip\n",
      "ModuleNotFoundError: No module named 'pip._internal.build_env'\n",
      "Traceback (most recent call last):\n",
      "  File \"/Users/carlosmoreno/Desktop/ITESO/5to SEMESTRE/Proyecto de Ciencia de Datos/PycharmProjects /ProyCienDatos2024-2/.venv/bin/pip\", line 7, in <module>\n",
      "    from pip._internal.cli.main import main\n",
      "  File \"/Users/carlosmoreno/Desktop/ITESO/5to SEMESTRE/Proyecto de Ciencia de Datos/PycharmProjects /ProyCienDatos2024-2/.venv/lib/python3.9/site-packages/pip/_internal/cli/main.py\", line 11, in <module>\n",
      "    from pip._internal.cli.autocompletion import autocomplete\n",
      "  File \"/Users/carlosmoreno/Desktop/ITESO/5to SEMESTRE/Proyecto de Ciencia de Datos/PycharmProjects /ProyCienDatos2024-2/.venv/lib/python3.9/site-packages/pip/_internal/cli/autocompletion.py\", line 10, in <module>\n",
      "    from pip._internal.cli.main_parser import create_main_parser\n",
      "  File \"/Users/carlosmoreno/Desktop/ITESO/5to SEMESTRE/Proyecto de Ciencia de Datos/PycharmProjects /ProyCienDatos2024-2/.venv/lib/python3.9/site-packages/pip/_internal/cli/main_parser.py\", line 9, in <module>\n",
      "    from pip._internal.build_env import get_runnable_pip\n",
      "ModuleNotFoundError: No module named 'pip._internal.build_env'\n",
      "/Users/carlosmoreno/Desktop/ITESO/5to SEMESTRE/Proyecto de Ciencia de Datos/PycharmProjects /ProyCienDatos2024-2/.venv/bin/python: No module named ipykernel\n",
      "Traceback (most recent call last):\n",
      "  File \"/Users/carlosmoreno/Desktop/ITESO/5to SEMESTRE/Proyecto de Ciencia de Datos/PycharmProjects /ProyCienDatos2024-2/.venv/bin/pip\", line 7, in <module>\n",
      "    from pip._internal.cli.main import main\n",
      "  File \"/Users/carlosmoreno/Desktop/ITESO/5to SEMESTRE/Proyecto de Ciencia de Datos/PycharmProjects /ProyCienDatos2024-2/.venv/lib/python3.9/site-packages/pip/_internal/cli/main.py\", line 11, in <module>\n",
      "    from pip._internal.cli.autocompletion import autocomplete\n",
      "  File \"/Users/carlosmoreno/Desktop/ITESO/5to SEMESTRE/Proyecto de Ciencia de Datos/PycharmProjects /ProyCienDatos2024-2/.venv/lib/python3.9/site-packages/pip/_internal/cli/autocompletion.py\", line 10, in <module>\n",
      "    from pip._internal.cli.main_parser import create_main_parser\n",
      "  File \"/Users/carlosmoreno/Desktop/ITESO/5to SEMESTRE/Proyecto de Ciencia de Datos/PycharmProjects /ProyCienDatos2024-2/.venv/lib/python3.9/site-packages/pip/_internal/cli/main_parser.py\", line 9, in <module>\n",
      "    from pip._internal.build_env import get_runnable_pip\n",
      "ModuleNotFoundError: No module named 'pip._internal.build_env'\n"
     ]
    },
    {
     "ename": "ModuleNotFoundError",
     "evalue": "No module named 'dagshub'",
     "output_type": "error",
     "traceback": [
      "\u001b[0;31m---------------------------------------------------------------------------\u001b[0m",
      "\u001b[0;31mModuleNotFoundError\u001b[0m                       Traceback (most recent call last)",
      "Cell \u001b[0;32mIn[19], line 14\u001b[0m\n\u001b[1;32m     11\u001b[0m get_ipython()\u001b[38;5;241m.\u001b[39msystem(\u001b[38;5;124m'\u001b[39m\u001b[38;5;124mpip show dagshub mlflow\u001b[39m\u001b[38;5;124m'\u001b[39m)\n\u001b[1;32m     13\u001b[0m \u001b[38;5;66;03m# Importa las librerías para probar que todo funcione correctamente\u001b[39;00m\n\u001b[0;32m---> 14\u001b[0m \u001b[38;5;28;01mimport\u001b[39;00m \u001b[38;5;21;01mdagshub\u001b[39;00m\n\u001b[1;32m     15\u001b[0m \u001b[38;5;28;01mimport\u001b[39;00m \u001b[38;5;21;01mmlflow\u001b[39;00m\n\u001b[1;32m     17\u001b[0m \u001b[38;5;66;03m# Inicializa la conexión a Dagshub\u001b[39;00m\n",
      "\u001b[0;31mModuleNotFoundError\u001b[0m: No module named 'dagshub'"
     ]
    }
   ],
   "source": [
    "# Instala el módulo ipykernel para agregar el entorno virtual a Jupyter\n",
    "!pip install ipykernel\n",
    "\n",
    "# Instala los paquetes necesarios como dagshub y mlflow en tu entorno\n",
    "!pip install dagshub mlflow\n",
    "\n",
    "# Agrega el entorno virtual como un kernel disponible para Jupyter\n",
    "!python -m ipykernel install --user --name=venv_kernel --display-name \"Python (venv_kernel)\"\n",
    "\n",
    "# Verifica si los paquetes están instalados correctamente\n",
    "!pip show dagshub mlflow\n",
    "\n",
    "# Importa las librerías para probar que todo funcione correctamente\n",
    "import dagshub\n",
    "import mlflow\n",
    "\n",
    "# Inicializa la conexión a Dagshub\n",
    "dagshub.init(url=\"https://dagshub.com/Parcex10/nyc-taxi-time-prediction\", mlflow=True)\n",
    "\n",
    "print(\"Dagshub and MLflow have been successfully initialized!\")\n"
   ]
  },
  {
   "cell_type": "code",
   "execution_count": 16,
   "id": "ea62403a-8bd9-4483-8d97-2864947902d6",
   "metadata": {},
   "outputs": [
    {
     "name": "stdout",
     "output_type": "stream",
     "text": [
      "Traceback (most recent call last):\n",
      "  File \"/Users/carlosmoreno/Desktop/ITESO/5to SEMESTRE/Proyecto de Ciencia de Datos/PycharmProjects /ProyCienDatos2024-2/.venv/bin/pip\", line 7, in <module>\n",
      "    from pip._internal.cli.main import main\n",
      "  File \"/Users/carlosmoreno/Desktop/ITESO/5to SEMESTRE/Proyecto de Ciencia de Datos/PycharmProjects /ProyCienDatos2024-2/.venv/lib/python3.9/site-packages/pip/_internal/cli/main.py\", line 11, in <module>\n",
      "    from pip._internal.cli.autocompletion import autocomplete\n",
      "  File \"/Users/carlosmoreno/Desktop/ITESO/5to SEMESTRE/Proyecto de Ciencia de Datos/PycharmProjects /ProyCienDatos2024-2/.venv/lib/python3.9/site-packages/pip/_internal/cli/autocompletion.py\", line 10, in <module>\n",
      "    from pip._internal.cli.main_parser import create_main_parser\n",
      "  File \"/Users/carlosmoreno/Desktop/ITESO/5to SEMESTRE/Proyecto de Ciencia de Datos/PycharmProjects /ProyCienDatos2024-2/.venv/lib/python3.9/site-packages/pip/_internal/cli/main_parser.py\", line 9, in <module>\n",
      "    from pip._internal.build_env import get_runnable_pip\n",
      "ModuleNotFoundError: No module named 'pip._internal.build_env'\n"
     ]
    },
    {
     "ename": "ModuleNotFoundError",
     "evalue": "No module named 'dagshub'",
     "output_type": "error",
     "traceback": [
      "\u001b[0;31m---------------------------------------------------------------------------\u001b[0m",
      "\u001b[0;31mModuleNotFoundError\u001b[0m                       Traceback (most recent call last)",
      "Cell \u001b[0;32mIn[16], line 2\u001b[0m\n\u001b[1;32m      1\u001b[0m get_ipython()\u001b[38;5;241m.\u001b[39msystem(\u001b[38;5;124m'\u001b[39m\u001b[38;5;124mpip install dagshub\u001b[39m\u001b[38;5;124m'\u001b[39m)\n\u001b[0;32m----> 2\u001b[0m \u001b[38;5;28;01mimport\u001b[39;00m \u001b[38;5;21;01mdagshub\u001b[39;00m\n\u001b[1;32m      3\u001b[0m \u001b[38;5;28;01mimport\u001b[39;00m \u001b[38;5;21;01mmlflow\u001b[39;00m\n\u001b[1;32m      6\u001b[0m dagshub\u001b[38;5;241m.\u001b[39minit(url\u001b[38;5;241m=\u001b[39m\u001b[38;5;124m\"\u001b[39m\u001b[38;5;124mhttps://dagshub.com/Parcex10/nyc-taxi-time-prediction\u001b[39m\u001b[38;5;124m\"\u001b[39m, mlflow\u001b[38;5;241m=\u001b[39m\u001b[38;5;28;01mTrue\u001b[39;00m)\n",
      "\u001b[0;31mModuleNotFoundError\u001b[0m: No module named 'dagshub'"
     ]
    }
   ],
   "source": [
    "!pip install dagshub\n",
    "import dagshub\n",
    "import mlflow\n",
    "\n",
    "\n",
    "dagshub.init(url=\"https://dagshub.com/Parcex10/nyc-taxi-time-prediction\", mlflow=True)\n",
    "\n",
    "MLFLOW_TRACKING_URI = mlflow.get_tracking_uri()\n",
    "\n",
    "print(MLFLOW_TRACKING_URI)\n",
    "\n",
    "mlflow.set_tracking_uri(MLFLOW_TRACKING_URI)\n",
    "mlflow.set_experiment(experiment_name=\"nyc-taxi-experiment\")"
   ]
  },
  {
   "cell_type": "code",
   "execution_count": 17,
   "id": "e9de965b-fac2-487b-88ab-efb74410f9d6",
   "metadata": {
    "scrolled": true
   },
   "outputs": [
    {
     "name": "stdout",
     "output_type": "stream",
     "text": [
      "Requirement already satisfied: pip in /Users/carlosmoreno/Desktop/ITESO/5to SEMESTRE/Proyecto de Ciencia de Datos/PycharmProjects /nyc-taxi-time-prediction/.venv/lib/python3.9/site-packages (24.2)\n"
     ]
    }
   ],
   "source": [
    " !pip install --upgrade pip"
   ]
  },
  {
   "cell_type": "code",
   "execution_count": null,
   "id": "9c996ed2-9521-4f30-894e-ddd7c0bbcb29",
   "metadata": {},
   "outputs": [
    {
     "name": "stdout",
     "output_type": "stream",
     "text": [
      "Found existing installation: dagshub 0.3.35\n",
      "Uninstalling dagshub-0.3.35:\n",
      "  Would remove:\n",
      "    /Users/carlosmoreno/Desktop/ITESO/5to SEMESTRE/Proyecto de Ciencia de Datos/PycharmProjects /nyc-taxi-time-prediction/.venv/bin/dagshub\n",
      "    /Users/carlosmoreno/Desktop/ITESO/5to SEMESTRE/Proyecto de Ciencia de Datos/PycharmProjects /nyc-taxi-time-prediction/.venv/lib/python3.9/site-packages/dagshub-0.3.35.dist-info/*\n",
      "    /Users/carlosmoreno/Desktop/ITESO/5to SEMESTRE/Proyecto de Ciencia de Datos/PycharmProjects /nyc-taxi-time-prediction/.venv/lib/python3.9/site-packages/dagshub/*\n",
      "  Would not remove (outside of prefix):\n",
      "    /Users/carlosmoreno/Library/Caches/com.apple.python/Users/carlosmoreno/Desktop/ITESO/5to SEMESTRE/Proyecto de Ciencia de Datos/PycharmProjects /nyc-taxi-time-prediction/.venv/lib/python3.9/site-packages/dagshub/__init__.cpython-39.pyc\n",
      "    /Users/carlosmoreno/Library/Caches/com.apple.python/Users/carlosmoreno/Desktop/ITESO/5to SEMESTRE/Proyecto de Ciencia de Datos/PycharmProjects /nyc-taxi-time-prediction/.venv/lib/python3.9/site-packages/dagshub/auth/__init__.cpython-39.pyc\n",
      "    /Users/carlosmoreno/Library/Caches/com.apple.python/Users/carlosmoreno/Desktop/ITESO/5to SEMESTRE/Proyecto de Ciencia de Datos/PycharmProjects /nyc-taxi-time-prediction/.venv/lib/python3.9/site-packages/dagshub/auth/oauth.cpython-39.pyc\n",
      "    /Users/carlosmoreno/Library/Caches/com.apple.python/Users/carlosmoreno/Desktop/ITESO/5to SEMESTRE/Proyecto de Ciencia de Datos/PycharmProjects /nyc-taxi-time-prediction/.venv/lib/python3.9/site-packages/dagshub/auth/token_auth.cpython-39.pyc\n",
      "    /Users/carlosmoreno/Library/Caches/com.apple.python/Users/carlosmoreno/Desktop/ITESO/5to SEMESTRE/Proyecto de Ciencia de Datos/PycharmProjects /nyc-taxi-time-prediction/.venv/lib/python3.9/site-packages/dagshub/auth/tokens.cpython-39.pyc\n",
      "    /Users/carlosmoreno/Library/Caches/com.apple.python/Users/carlosmoreno/Desktop/ITESO/5to SEMESTRE/Proyecto de Ciencia de Datos/PycharmProjects /nyc-taxi-time-prediction/.venv/lib/python3.9/site-packages/dagshub/colab/__init__.cpython-39.pyc\n",
      "    /Users/carlosmoreno/Library/Caches/com.apple.python/Users/carlosmoreno/Desktop/ITESO/5to SEMESTRE/Proyecto de Ciencia de Datos/PycharmProjects /nyc-taxi-time-prediction/.venv/lib/python3.9/site-packages/dagshub/colab/login.cpython-39.pyc\n",
      "    /Users/carlosmoreno/Library/Caches/com.apple.python/Users/carlosmoreno/Desktop/ITESO/5to SEMESTRE/Proyecto de Ciencia de Datos/PycharmProjects /nyc-taxi-time-prediction/.venv/lib/python3.9/site-packages/dagshub/common/__init__.cpython-39.pyc\n",
      "    /Users/carlosmoreno/Library/Caches/com.apple.python/Users/carlosmoreno/Desktop/ITESO/5to SEMESTRE/Proyecto de Ciencia de Datos/PycharmProjects /nyc-taxi-time-prediction/.venv/lib/python3.9/site-packages/dagshub/common/analytics.cpython-39.pyc\n",
      "    /Users/carlosmoreno/Library/Caches/com.apple.python/Users/carlosmoreno/Desktop/ITESO/5to SEMESTRE/Proyecto de Ciencia de Datos/PycharmProjects /nyc-taxi-time-prediction/.venv/lib/python3.9/site-packages/dagshub/common/api/__init__.cpython-39.pyc\n",
      "    /Users/carlosmoreno/Library/Caches/com.apple.python/Users/carlosmoreno/Desktop/ITESO/5to SEMESTRE/Proyecto de Ciencia de Datos/PycharmProjects /nyc-taxi-time-prediction/.venv/lib/python3.9/site-packages/dagshub/common/api/repo.cpython-39.pyc\n",
      "    /Users/carlosmoreno/Library/Caches/com.apple.python/Users/carlosmoreno/Desktop/ITESO/5to SEMESTRE/Proyecto de Ciencia de Datos/PycharmProjects /nyc-taxi-time-prediction/.venv/lib/python3.9/site-packages/dagshub/common/api/responses.cpython-39.pyc\n",
      "    /Users/carlosmoreno/Library/Caches/com.apple.python/Users/carlosmoreno/Desktop/ITESO/5to SEMESTRE/Proyecto de Ciencia de Datos/PycharmProjects /nyc-taxi-time-prediction/.venv/lib/python3.9/site-packages/dagshub/common/api/user.cpython-39.pyc\n",
      "    /Users/carlosmoreno/Library/Caches/com.apple.python/Users/carlosmoreno/Desktop/ITESO/5to SEMESTRE/Proyecto de Ciencia de Datos/PycharmProjects /nyc-taxi-time-prediction/.venv/lib/python3.9/site-packages/dagshub/common/cli.cpython-39.pyc\n",
      "    /Users/carlosmoreno/Library/Caches/com.apple.python/Users/carlosmoreno/Desktop/ITESO/5to SEMESTRE/Proyecto de Ciencia de Datos/PycharmProjects /nyc-taxi-time-prediction/.venv/lib/python3.9/site-packages/dagshub/common/config.cpython-39.pyc\n",
      "    /Users/carlosmoreno/Library/Caches/com.apple.python/Users/carlosmoreno/Desktop/ITESO/5to SEMESTRE/Proyecto de Ciencia de Datos/PycharmProjects /nyc-taxi-time-prediction/.venv/lib/python3.9/site-packages/dagshub/common/determine_repo.cpython-39.pyc\n",
      "    /Users/carlosmoreno/Library/Caches/com.apple.python/Users/carlosmoreno/Desktop/ITESO/5to SEMESTRE/Proyecto de Ciencia de Datos/PycharmProjects /nyc-taxi-time-prediction/.venv/lib/python3.9/site-packages/dagshub/common/download.cpython-39.pyc\n",
      "    /Users/carlosmoreno/Library/Caches/com.apple.python/Users/carlosmoreno/Desktop/ITESO/5to SEMESTRE/Proyecto de Ciencia de Datos/PycharmProjects /nyc-taxi-time-prediction/.venv/lib/python3.9/site-packages/dagshub/common/environment.cpython-39.pyc\n",
      "    /Users/carlosmoreno/Library/Caches/com.apple.python/Users/carlosmoreno/Desktop/ITESO/5to SEMESTRE/Proyecto de Ciencia de Datos/PycharmProjects /nyc-taxi-time-prediction/.venv/lib/python3.9/site-packages/dagshub/common/errors.cpython-39.pyc\n",
      "    /Users/carlosmoreno/Library/Caches/com.apple.python/Users/carlosmoreno/Desktop/ITESO/5to SEMESTRE/Proyecto de Ciencia de Datos/PycharmProjects /nyc-taxi-time-prediction/.venv/lib/python3.9/site-packages/dagshub/common/helpers.cpython-39.pyc\n",
      "    /Users/carlosmoreno/Library/Caches/com.apple.python/Users/carlosmoreno/Desktop/ITESO/5to SEMESTRE/Proyecto de Ciencia de Datos/PycharmProjects /nyc-taxi-time-prediction/.venv/lib/python3.9/site-packages/dagshub/common/init.cpython-39.pyc\n",
      "    /Users/carlosmoreno/Library/Caches/com.apple.python/Users/carlosmoreno/Desktop/ITESO/5to SEMESTRE/Proyecto de Ciencia de Datos/PycharmProjects /nyc-taxi-time-prediction/.venv/lib/python3.9/site-packages/dagshub/common/logging_util.cpython-39.pyc\n",
      "    /Users/carlosmoreno/Library/Caches/com.apple.python/Users/carlosmoreno/Desktop/ITESO/5to SEMESTRE/Proyecto de Ciencia de Datos/PycharmProjects /nyc-taxi-time-prediction/.venv/lib/python3.9/site-packages/dagshub/common/notebook.cpython-39.pyc\n",
      "    /Users/carlosmoreno/Library/Caches/com.apple.python/Users/carlosmoreno/Desktop/ITESO/5to SEMESTRE/Proyecto de Ciencia de Datos/PycharmProjects /nyc-taxi-time-prediction/.venv/lib/python3.9/site-packages/dagshub/common/rich_util.cpython-39.pyc\n",
      "    /Users/carlosmoreno/Library/Caches/com.apple.python/Users/carlosmoreno/Desktop/ITESO/5to SEMESTRE/Proyecto de Ciencia de Datos/PycharmProjects /nyc-taxi-time-prediction/.venv/lib/python3.9/site-packages/dagshub/common/util.cpython-39.pyc\n",
      "    /Users/carlosmoreno/Library/Caches/com.apple.python/Users/carlosmoreno/Desktop/ITESO/5to SEMESTRE/Proyecto de Ciencia de Datos/PycharmProjects /nyc-taxi-time-prediction/.venv/lib/python3.9/site-packages/dagshub/data_engine/__init__.cpython-39.pyc\n",
      "    /Users/carlosmoreno/Library/Caches/com.apple.python/Users/carlosmoreno/Desktop/ITESO/5to SEMESTRE/Proyecto de Ciencia de Datos/PycharmProjects /nyc-taxi-time-prediction/.venv/lib/python3.9/site-packages/dagshub/data_engine/annotation/__init__.cpython-39.pyc\n",
      "    /Users/carlosmoreno/Library/Caches/com.apple.python/Users/carlosmoreno/Desktop/ITESO/5to SEMESTRE/Proyecto de Ciencia de Datos/PycharmProjects /nyc-taxi-time-prediction/.venv/lib/python3.9/site-packages/dagshub/data_engine/annotation/importer.cpython-39.pyc\n",
      "    /Users/carlosmoreno/Library/Caches/com.apple.python/Users/carlosmoreno/Desktop/ITESO/5to SEMESTRE/Proyecto de Ciencia de Datos/PycharmProjects /nyc-taxi-time-prediction/.venv/lib/python3.9/site-packages/dagshub/data_engine/annotation/metadata.cpython-39.pyc\n",
      "    /Users/carlosmoreno/Library/Caches/com.apple.python/Users/carlosmoreno/Desktop/ITESO/5to SEMESTRE/Proyecto de Ciencia de Datos/PycharmProjects /nyc-taxi-time-prediction/.venv/lib/python3.9/site-packages/dagshub/data_engine/annotation/voxel_conversion.cpython-39.pyc\n",
      "    /Users/carlosmoreno/Library/Caches/com.apple.python/Users/carlosmoreno/Desktop/ITESO/5to SEMESTRE/Proyecto de Ciencia de Datos/PycharmProjects /nyc-taxi-time-prediction/.venv/lib/python3.9/site-packages/dagshub/data_engine/client/__init__.cpython-39.pyc\n",
      "    /Users/carlosmoreno/Library/Caches/com.apple.python/Users/carlosmoreno/Desktop/ITESO/5to SEMESTRE/Proyecto de Ciencia de Datos/PycharmProjects /nyc-taxi-time-prediction/.venv/lib/python3.9/site-packages/dagshub/data_engine/client/data_client.cpython-39.pyc\n",
      "    /Users/carlosmoreno/Library/Caches/com.apple.python/Users/carlosmoreno/Desktop/ITESO/5to SEMESTRE/Proyecto de Ciencia de Datos/PycharmProjects /nyc-taxi-time-prediction/.venv/lib/python3.9/site-packages/dagshub/data_engine/client/gql_introspections.cpython-39.pyc\n",
      "    /Users/carlosmoreno/Library/Caches/com.apple.python/Users/carlosmoreno/Desktop/ITESO/5to SEMESTRE/Proyecto de Ciencia de Datos/PycharmProjects /nyc-taxi-time-prediction/.venv/lib/python3.9/site-packages/dagshub/data_engine/client/gql_mutations.cpython-39.pyc\n",
      "    /Users/carlosmoreno/Library/Caches/com.apple.python/Users/carlosmoreno/Desktop/ITESO/5to SEMESTRE/Proyecto de Ciencia de Datos/PycharmProjects /nyc-taxi-time-prediction/.venv/lib/python3.9/site-packages/dagshub/data_engine/client/gql_queries.cpython-39.pyc\n",
      "    /Users/carlosmoreno/Library/Caches/com.apple.python/Users/carlosmoreno/Desktop/ITESO/5to SEMESTRE/Proyecto de Ciencia de Datos/PycharmProjects /nyc-taxi-time-prediction/.venv/lib/python3.9/site-packages/dagshub/data_engine/client/loaders/__init__.cpython-39.pyc\n",
      "    /Users/carlosmoreno/Library/Caches/com.apple.python/Users/carlosmoreno/Desktop/ITESO/5to SEMESTRE/Proyecto de Ciencia de Datos/PycharmProjects /nyc-taxi-time-prediction/.venv/lib/python3.9/site-packages/dagshub/data_engine/client/loaders/base.cpython-39.pyc\n",
      "    /Users/carlosmoreno/Library/Caches/com.apple.python/Users/carlosmoreno/Desktop/ITESO/5to SEMESTRE/Proyecto de Ciencia de Datos/PycharmProjects /nyc-taxi-time-prediction/.venv/lib/python3.9/site-packages/dagshub/data_engine/client/loaders/tf.cpython-39.pyc\n",
      "    /Users/carlosmoreno/Library/Caches/com.apple.python/Users/carlosmoreno/Desktop/ITESO/5to SEMESTRE/Proyecto de Ciencia de Datos/PycharmProjects /nyc-taxi-time-prediction/.venv/lib/python3.9/site-packages/dagshub/data_engine/client/loaders/torch.cpython-39.pyc\n",
      "    /Users/carlosmoreno/Library/Caches/com.apple.python/Users/carlosmoreno/Desktop/ITESO/5to SEMESTRE/Proyecto de Ciencia de Datos/PycharmProjects /nyc-taxi-time-prediction/.venv/lib/python3.9/site-packages/dagshub/data_engine/client/models.cpython-39.pyc\n",
      "    /Users/carlosmoreno/Library/Caches/com.apple.python/Users/carlosmoreno/Desktop/ITESO/5to SEMESTRE/Proyecto de Ciencia de Datos/PycharmProjects /nyc-taxi-time-prediction/.venv/lib/python3.9/site-packages/dagshub/data_engine/client/query_builder/__init__.cpython-39.pyc\n",
      "    /Users/carlosmoreno/Library/Caches/com.apple.python/Users/carlosmoreno/Desktop/ITESO/5to SEMESTRE/Proyecto de Ciencia de Datos/PycharmProjects /nyc-taxi-time-prediction/.venv/lib/python3.9/site-packages/dagshub/data_engine/datasets.cpython-39.pyc\n",
      "    /Users/carlosmoreno/Library/Caches/com.apple.python/Users/carlosmoreno/Desktop/ITESO/5to SEMESTRE/Proyecto de Ciencia de Datos/PycharmProjects /nyc-taxi-time-prediction/.venv/lib/python3.9/site-packages/dagshub/data_engine/datasources.cpython-39.pyc\n",
      "    /Users/carlosmoreno/Library/Caches/com.apple.python/Users/carlosmoreno/Desktop/ITESO/5to SEMESTRE/Proyecto de Ciencia de Datos/PycharmProjects /nyc-taxi-time-prediction/.venv/lib/python3.9/site-packages/dagshub/data_engine/dtypes.cpython-39.pyc\n",
      "    /Users/carlosmoreno/Library/Caches/com.apple.python/Users/carlosmoreno/Desktop/ITESO/5to SEMESTRE/Proyecto de Ciencia de Datos/PycharmProjects /nyc-taxi-time-prediction/.venv/lib/python3.9/site-packages/dagshub/data_engine/model/__init__.cpython-39.pyc\n",
      "    /Users/carlosmoreno/Library/Caches/com.apple.python/Users/carlosmoreno/Desktop/ITESO/5to SEMESTRE/Proyecto de Ciencia de Datos/PycharmProjects /nyc-taxi-time-prediction/.venv/lib/python3.9/site-packages/dagshub/data_engine/model/datapoint.cpython-39.pyc\n",
      "    /Users/carlosmoreno/Library/Caches/com.apple.python/Users/carlosmoreno/Desktop/ITESO/5to SEMESTRE/Proyecto de Ciencia de Datos/PycharmProjects /nyc-taxi-time-prediction/.venv/lib/python3.9/site-packages/dagshub/data_engine/model/datasource.cpython-39.pyc\n",
      "    /Users/carlosmoreno/Library/Caches/com.apple.python/Users/carlosmoreno/Desktop/ITESO/5to SEMESTRE/Proyecto de Ciencia de Datos/PycharmProjects /nyc-taxi-time-prediction/.venv/lib/python3.9/site-packages/dagshub/data_engine/model/datasource_state.cpython-39.pyc\n",
      "    /Users/carlosmoreno/Library/Caches/com.apple.python/Users/carlosmoreno/Desktop/ITESO/5to SEMESTRE/Proyecto de Ciencia de Datos/PycharmProjects /nyc-taxi-time-prediction/.venv/lib/python3.9/site-packages/dagshub/data_engine/model/errors.cpython-39.pyc\n",
      "    /Users/carlosmoreno/Library/Caches/com.apple.python/Users/carlosmoreno/Desktop/ITESO/5to SEMESTRE/Proyecto de Ciencia de Datos/PycharmProjects /nyc-taxi-time-prediction/.venv/lib/python3.9/site-packages/dagshub/data_engine/model/metadata/__init__.cpython-39.pyc\n",
      "    /Users/carlosmoreno/Library/Caches/com.apple.python/Users/carlosmoreno/Desktop/ITESO/5to SEMESTRE/Proyecto de Ciencia de Datos/PycharmProjects /nyc-taxi-time-prediction/.venv/lib/python3.9/site-packages/dagshub/data_engine/model/metadata/transforms.cpython-39.pyc\n",
      "    /Users/carlosmoreno/Library/Caches/com.apple.python/Users/carlosmoreno/Desktop/ITESO/5to SEMESTRE/Proyecto de Ciencia de Datos/PycharmProjects /nyc-taxi-time-prediction/.venv/lib/python3.9/site-packages/dagshub/data_engine/model/metadata/util.cpython-39.pyc\n",
      "    /Users/carlosmoreno/Library/Caches/com.apple.python/Users/carlosmoreno/Desktop/ITESO/5to SEMESTRE/Proyecto de Ciencia de Datos/PycharmProjects /nyc-taxi-time-prediction/.venv/lib/python3.9/site-packages/dagshub/data_engine/model/metadata/validation.cpython-39.pyc\n",
      "    /Users/carlosmoreno/Library/Caches/com.apple.python/Users/carlosmoreno/Desktop/ITESO/5to SEMESTRE/Proyecto de Ciencia de Datos/PycharmProjects /nyc-taxi-time-prediction/.venv/lib/python3.9/site-packages/dagshub/data_engine/model/metadata_field_builder.cpython-39.pyc\n",
      "    /Users/carlosmoreno/Library/Caches/com.apple.python/Users/carlosmoreno/Desktop/ITESO/5to SEMESTRE/Proyecto de Ciencia de Datos/PycharmProjects /nyc-taxi-time-prediction/.venv/lib/python3.9/site-packages/dagshub/data_engine/model/query.cpython-39.pyc\n",
      "    /Users/carlosmoreno/Library/Caches/com.apple.python/Users/carlosmoreno/Desktop/ITESO/5to SEMESTRE/Proyecto de Ciencia de Datos/PycharmProjects /nyc-taxi-time-prediction/.venv/lib/python3.9/site-packages/dagshub/data_engine/model/query_result.cpython-39.pyc\n",
      "    /Users/carlosmoreno/Library/Caches/com.apple.python/Users/carlosmoreno/Desktop/ITESO/5to SEMESTRE/Proyecto de Ciencia de Datos/PycharmProjects /nyc-taxi-time-prediction/.venv/lib/python3.9/site-packages/dagshub/data_engine/model/schema_util.cpython-39.pyc\n",
      "    /Users/carlosmoreno/Library/Caches/com.apple.python/Users/carlosmoreno/Desktop/ITESO/5to SEMESTRE/Proyecto de Ciencia de Datos/PycharmProjects /nyc-taxi-time-prediction/.venv/lib/python3.9/site-packages/dagshub/data_engine/voxel_plugin_server/__init__.cpython-39.pyc\n",
      "    /Users/carlosmoreno/Library/Caches/com.apple.python/Users/carlosmoreno/Desktop/ITESO/5to SEMESTRE/Proyecto de Ciencia de Datos/PycharmProjects /nyc-taxi-time-prediction/.venv/lib/python3.9/site-packages/dagshub/data_engine/voxel_plugin_server/app.cpython-39.pyc\n",
      "    /Users/carlosmoreno/Library/Caches/com.apple.python/Users/carlosmoreno/Desktop/ITESO/5to SEMESTRE/Proyecto de Ciencia de Datos/PycharmProjects /nyc-taxi-time-prediction/.venv/lib/python3.9/site-packages/dagshub/data_engine/voxel_plugin_server/models.cpython-39.pyc\n",
      "    /Users/carlosmoreno/Library/Caches/com.apple.python/Users/carlosmoreno/Desktop/ITESO/5to SEMESTRE/Proyecto de Ciencia de Datos/PycharmProjects /nyc-taxi-time-prediction/.venv/lib/python3.9/site-packages/dagshub/data_engine/voxel_plugin_server/routes/__init__.cpython-39.pyc\n",
      "    /Users/carlosmoreno/Library/Caches/com.apple.python/Users/carlosmoreno/Desktop/ITESO/5to SEMESTRE/Proyecto de Ciencia de Datos/PycharmProjects /nyc-taxi-time-prediction/.venv/lib/python3.9/site-packages/dagshub/data_engine/voxel_plugin_server/routes/annotation.cpython-39.pyc\n",
      "    /Users/carlosmoreno/Library/Caches/com.apple.python/Users/carlosmoreno/Desktop/ITESO/5to SEMESTRE/Proyecto de Ciencia de Datos/PycharmProjects /nyc-taxi-time-prediction/.venv/lib/python3.9/site-packages/dagshub/data_engine/voxel_plugin_server/routes/datasource.cpython-39.pyc\n",
      "    /Users/carlosmoreno/Library/Caches/com.apple.python/Users/carlosmoreno/Desktop/ITESO/5to SEMESTRE/Proyecto de Ciencia de Datos/PycharmProjects /nyc-taxi-time-prediction/.venv/lib/python3.9/site-packages/dagshub/data_engine/voxel_plugin_server/routes/util.cpython-39.pyc\n",
      "    /Users/carlosmoreno/Library/Caches/com.apple.python/Users/carlosmoreno/Desktop/ITESO/5to SEMESTRE/Proyecto de Ciencia de Datos/PycharmProjects /nyc-taxi-time-prediction/.venv/lib/python3.9/site-packages/dagshub/data_engine/voxel_plugin_server/routes/voxel.cpython-39.pyc\n",
      "    /Users/carlosmoreno/Library/Caches/com.apple.python/Users/carlosmoreno/Desktop/ITESO/5to SEMESTRE/Proyecto de Ciencia de Datos/PycharmProjects /nyc-taxi-time-prediction/.venv/lib/python3.9/site-packages/dagshub/data_engine/voxel_plugin_server/server.cpython-39.pyc\n",
      "    /Users/carlosmoreno/Library/Caches/com.apple.python/Users/carlosmoreno/Desktop/ITESO/5to SEMESTRE/Proyecto de Ciencia de Datos/PycharmProjects /nyc-taxi-time-prediction/.venv/lib/python3.9/site-packages/dagshub/data_engine/voxel_plugin_server/utils.cpython-39.pyc\n",
      "    /Users/carlosmoreno/Library/Caches/com.apple.python/Users/carlosmoreno/Desktop/ITESO/5to SEMESTRE/Proyecto de Ciencia de Datos/PycharmProjects /nyc-taxi-time-prediction/.venv/lib/python3.9/site-packages/dagshub/fastai/__init__.cpython-39.pyc\n",
      "    /Users/carlosmoreno/Library/Caches/com.apple.python/Users/carlosmoreno/Desktop/ITESO/5to SEMESTRE/Proyecto de Ciencia de Datos/PycharmProjects /nyc-taxi-time-prediction/.venv/lib/python3.9/site-packages/dagshub/fastai/logger.cpython-39.pyc\n",
      "    /Users/carlosmoreno/Library/Caches/com.apple.python/Users/carlosmoreno/Desktop/ITESO/5to SEMESTRE/Proyecto de Ciencia de Datos/PycharmProjects /nyc-taxi-time-prediction/.venv/lib/python3.9/site-packages/dagshub/keras/__init__.cpython-39.pyc\n",
      "    /Users/carlosmoreno/Library/Caches/com.apple.python/Users/carlosmoreno/Desktop/ITESO/5to SEMESTRE/Proyecto de Ciencia de Datos/PycharmProjects /nyc-taxi-time-prediction/.venv/lib/python3.9/site-packages/dagshub/keras/logger.cpython-39.pyc\n",
      "    /Users/carlosmoreno/Library/Caches/com.apple.python/Users/carlosmoreno/Desktop/ITESO/5to SEMESTRE/Proyecto de Ciencia de Datos/PycharmProjects /nyc-taxi-time-prediction/.venv/lib/python3.9/site-packages/dagshub/logger.cpython-39.pyc\n",
      "    /Users/carlosmoreno/Library/Caches/com.apple.python/Users/carlosmoreno/Desktop/ITESO/5to SEMESTRE/Proyecto de Ciencia de Datos/PycharmProjects /nyc-taxi-time-prediction/.venv/lib/python3.9/site-packages/dagshub/mlflow/__init__.cpython-39.pyc\n",
      "    /Users/carlosmoreno/Library/Caches/com.apple.python/Users/carlosmoreno/Desktop/ITESO/5to SEMESTRE/Proyecto de Ciencia de Datos/PycharmProjects /nyc-taxi-time-prediction/.venv/lib/python3.9/site-packages/dagshub/mlflow/patch.cpython-39.pyc\n",
      "    /Users/carlosmoreno/Library/Caches/com.apple.python/Users/carlosmoreno/Desktop/ITESO/5to SEMESTRE/Proyecto de Ciencia de Datos/PycharmProjects /nyc-taxi-time-prediction/.venv/lib/python3.9/site-packages/dagshub/models/__init__.cpython-39.pyc\n",
      "    /Users/carlosmoreno/Library/Caches/com.apple.python/Users/carlosmoreno/Desktop/ITESO/5to SEMESTRE/Proyecto de Ciencia de Datos/PycharmProjects /nyc-taxi-time-prediction/.venv/lib/python3.9/site-packages/dagshub/models/model_loaders.cpython-39.pyc\n",
      "    /Users/carlosmoreno/Library/Caches/com.apple.python/Users/carlosmoreno/Desktop/ITESO/5to SEMESTRE/Proyecto de Ciencia de Datos/PycharmProjects /nyc-taxi-time-prediction/.venv/lib/python3.9/site-packages/dagshub/models/model_locator.cpython-39.pyc\n",
      "    /Users/carlosmoreno/Library/Caches/com.apple.python/Users/carlosmoreno/Desktop/ITESO/5to SEMESTRE/Proyecto de Ciencia de Datos/PycharmProjects /nyc-taxi-time-prediction/.venv/lib/python3.9/site-packages/dagshub/notebook.cpython-39.pyc\n",
      "    /Users/carlosmoreno/Library/Caches/com.apple.python/Users/carlosmoreno/Desktop/ITESO/5to SEMESTRE/Proyecto de Ciencia de Datos/PycharmProjects /nyc-taxi-time-prediction/.venv/lib/python3.9/site-packages/dagshub/pytorch_lightning/__init__.cpython-39.pyc\n",
      "    /Users/carlosmoreno/Library/Caches/com.apple.python/Users/carlosmoreno/Desktop/ITESO/5to SEMESTRE/Proyecto de Ciencia de Datos/PycharmProjects /nyc-taxi-time-prediction/.venv/lib/python3.9/site-packages/dagshub/pytorch_lightning/logger.cpython-39.pyc\n",
      "    /Users/carlosmoreno/Library/Caches/com.apple.python/Users/carlosmoreno/Desktop/ITESO/5to SEMESTRE/Proyecto de Ciencia de Datos/PycharmProjects /nyc-taxi-time-prediction/.venv/lib/python3.9/site-packages/dagshub/pytorch_lightning/utils.cpython-39.pyc\n",
      "    /Users/carlosmoreno/Library/Caches/com.apple.python/Users/carlosmoreno/Desktop/ITESO/5to SEMESTRE/Proyecto de Ciencia de Datos/PycharmProjects /nyc-taxi-time-prediction/.venv/lib/python3.9/site-packages/dagshub/repo_bucket.cpython-39.pyc\n",
      "    /Users/carlosmoreno/Library/Caches/com.apple.python/Users/carlosmoreno/Desktop/ITESO/5to SEMESTRE/Proyecto de Ciencia de Datos/PycharmProjects /nyc-taxi-time-prediction/.venv/lib/python3.9/site-packages/dagshub/storage/__init__.cpython-39.pyc\n",
      "    /Users/carlosmoreno/Library/Caches/com.apple.python/Users/carlosmoreno/Desktop/ITESO/5to SEMESTRE/Proyecto de Ciencia de Datos/PycharmProjects /nyc-taxi-time-prediction/.venv/lib/python3.9/site-packages/dagshub/storage/rclone.cpython-39.pyc\n",
      "    /Users/carlosmoreno/Library/Caches/com.apple.python/Users/carlosmoreno/Desktop/ITESO/5to SEMESTRE/Proyecto de Ciencia de Datos/PycharmProjects /nyc-taxi-time-prediction/.venv/lib/python3.9/site-packages/dagshub/streaming/__init__.cpython-39.pyc\n",
      "    /Users/carlosmoreno/Library/Caches/com.apple.python/Users/carlosmoreno/Desktop/ITESO/5to SEMESTRE/Proyecto de Ciencia de Datos/PycharmProjects /nyc-taxi-time-prediction/.venv/lib/python3.9/site-packages/dagshub/streaming/dataclasses.cpython-39.pyc\n",
      "    /Users/carlosmoreno/Library/Caches/com.apple.python/Users/carlosmoreno/Desktop/ITESO/5to SEMESTRE/Proyecto de Ciencia de Datos/PycharmProjects /nyc-taxi-time-prediction/.venv/lib/python3.9/site-packages/dagshub/streaming/errors.cpython-39.pyc\n",
      "    /Users/carlosmoreno/Library/Caches/com.apple.python/Users/carlosmoreno/Desktop/ITESO/5to SEMESTRE/Proyecto de Ciencia de Datos/PycharmProjects /nyc-taxi-time-prediction/.venv/lib/python3.9/site-packages/dagshub/streaming/filesystem.cpython-39.pyc\n",
      "    /Users/carlosmoreno/Library/Caches/com.apple.python/Users/carlosmoreno/Desktop/ITESO/5to SEMESTRE/Proyecto de Ciencia de Datos/PycharmProjects /nyc-taxi-time-prediction/.venv/lib/python3.9/site-packages/dagshub/streaming/mount.cpython-39.pyc\n",
      "    /Users/carlosmoreno/Library/Caches/com.apple.python/Users/carlosmoreno/Desktop/ITESO/5to SEMESTRE/Proyecto de Ciencia de Datos/PycharmProjects /nyc-taxi-time-prediction/.venv/lib/python3.9/site-packages/dagshub/upload/__init__.cpython-39.pyc\n",
      "    /Users/carlosmoreno/Library/Caches/com.apple.python/Users/carlosmoreno/Desktop/ITESO/5to SEMESTRE/Proyecto de Ciencia de Datos/PycharmProjects /nyc-taxi-time-prediction/.venv/lib/python3.9/site-packages/dagshub/upload/errors.cpython-39.pyc\n",
      "    /Users/carlosmoreno/Library/Caches/com.apple.python/Users/carlosmoreno/Desktop/ITESO/5to SEMESTRE/Proyecto de Ciencia de Datos/PycharmProjects /nyc-taxi-time-prediction/.venv/lib/python3.9/site-packages/dagshub/upload/wrapper.cpython-39.pyc\n",
      "Proceed (Y/n)? "
     ]
    }
   ],
   "source": [
    "!pip uninstall dagshub\n",
    "!pip install dagshub \n"
   ]
  },
  {
   "cell_type": "code",
   "execution_count": null,
   "id": "fff0e376-b4a9-47fd-8312-1e63898dd924",
   "metadata": {},
   "outputs": [],
   "source": [
    "training_dataset = mlflow.data.from_numpy(X_train.data, targets=y_train, name=\"green_tripdata_2024-01\")\n",
    "validation_dataset = mlflow.data.from_numpy(X_val.data, targets=y_val, name=\"green_tripdata_2024-02\")"
   ]
  },
  {
   "cell_type": "code",
   "execution_count": null,
   "id": "7b993d37-380f-47be-95d7-aada5dbb70c8",
   "metadata": {},
   "outputs": [],
   "source": [
    "from dagshub import get_repo_bucket_client\n",
    "# Get a boto3.client object\n",
    "s3 = get_repo_bucket_client(\"Parcex10/nyc-taxi-time-prediction\")\n",
    "\n",
    "# Upload file\n",
    "s3.upload_file(\n",
    "    Bucket=\"nyc-taxi-time-prediction\",  # name of the repo\n",
    "    Filename=\"local.csv\",  # local path of file to upload\n",
    "    Key=\"remote.csv\",  # remote path where to upload the file\n",
    ")\n",
    "# Download file\n",
    "s3.download_file(\n",
    "    Bucket=\"nyc-taxi-time-prediction\",  # name of the repo\n",
    "    Key=\"remote.csv\",  #  remote path from where to download the file\n",
    "    Filename=\"local.csv\",  # local path where to download the file\n",
    ")"
   ]
  },
  {
   "cell_type": "code",
   "execution_count": null,
   "id": "1a5a1f1c-b0b9-4400-a78b-2b5e354584c5",
   "metadata": {},
   "outputs": [],
   "source": [
    "!pip show dagshub"
   ]
  },
  {
   "cell_type": "code",
   "execution_count": null,
   "id": "9664c7e0-7870-427f-94d1-bca031e1bdb6",
   "metadata": {},
   "outputs": [],
   "source": [
    "import xgboost as xgb\n",
    "from hyperopt import fmin, tpe, hp, STATUS_OK, Trials\n",
    "from hyperopt.pyll import scope\n",
    "import pathlib"
   ]
  },
  {
   "cell_type": "code",
   "execution_count": null,
   "id": "f7e6eb9f-b62d-490b-954c-3532b5068937",
   "metadata": {},
   "outputs": [],
   "source": [
    "train = xgb.DMatrix(X_train, label=y_train)\n",
    "valid = xgb.DMatrix(X_val, label=y_val)"
   ]
  },
  {
   "cell_type": "code",
   "execution_count": null,
   "id": "a5a3775a-4a4f-4306-ab3d-aa1a7e30c91b",
   "metadata": {},
   "outputs": [],
   "source": [
    "def objective(params):\n",
    "    with mlflow.start_run(nested=True):\n",
    "         \n",
    "        # Tag model\n",
    "        mlflow.set_tag(\"model_family\", \"xgboost\")\n",
    "        \n",
    "        # Log parameters\n",
    "        mlflow.log_params(params)\n",
    "        \n",
    "        # Train model\n",
    "        booster = xgb.train(\n",
    "            params=params,\n",
    "            dtrain=train,\n",
    "            num_boost_round=100,\n",
    "            evals=[(valid, 'validation')],\n",
    "            early_stopping_rounds=10\n",
    "        )\n",
    "        \n",
    "        # Log xgboost model with artifact_path\n",
    "        mlflow.xgboost.log_model(booster, artifact_path=\"model\")\n",
    "         \n",
    "        # Predict in the val dataset\n",
    "        y_pred = booster.predict(valid)\n",
    "        \n",
    "        # Calculate metric\n",
    "        rmse = root_mean_squared_error(y_val, y_pred)\n",
    "        \n",
    "        # Log performance metric\n",
    "        mlflow.log_metric(\"rmse\", rmse)\n",
    "\n",
    "    return {'loss': rmse, 'status': STATUS_OK}"
   ]
  },
  {
   "cell_type": "code",
   "execution_count": null,
   "id": "d3760fe4-0d7e-46c2-9a32-b5fa5b8a41f2",
   "metadata": {},
   "outputs": [],
   "source": [
    "mlflow.xgboost.autolog()\n",
    "\n",
    "with mlflow.start_run(run_name=\"Xgboost Hyper-parameter Optimization\", nested=True):\n",
    "    search_space = {\n",
    "        'max_depth': scope.int(hp.quniform('max_depth', 4, 100, 1)),\n",
    "        'learning_rate': hp.loguniform('learning_rate', -3, 0),\n",
    "        'reg_alpha': hp.loguniform('reg_alpha', -5, -1),\n",
    "        'reg_lambda': hp.loguniform('reg_lambda', -6, -1),\n",
    "        'min_child_weight': hp.loguniform('min_child_weight', -1, 3),\n",
    "        'objective': 'reg:squarederror',\n",
    "        'seed': 42\n",
    "    }\n",
    "    \n",
    "    best_params = fmin(\n",
    "        fn=objective,\n",
    "        space=search_space,\n",
    "        algo=tpe.suggest,\n",
    "        max_evals=10,\n",
    "        trials=Trials()\n",
    "    )\n",
    "    best_params[\"max_depth\"] = int(best_params[\"max_depth\"])\n",
    "    best_params[\"seed\"] = 42\n",
    "    best_params[\"objective\"] = \"reg:squarederror\"\n",
    "    \n",
    "    mlflow.log_params(best_params)\n",
    "\n",
    "    # Log tags\n",
    "    mlflow.set_tags(\n",
    "        tags={\n",
    "            \"project\": \"NYC Taxi Time Prediction Project\",\n",
    "            \"optimizer_engine\": \"hyper-opt\",\n",
    "            \"model_family\": \"xgboost\",\n",
    "            \"feature_set_version\": 1,\n",
    "        }\n",
    "    )\n",
    "\n",
    "    # Log a fit model instance\n",
    "    booster = xgb.train(\n",
    "        params=best_params,\n",
    "        dtrain=train,\n",
    "        num_boost_round=100,\n",
    "        evals=[(valid, 'validation')],\n",
    "        early_stopping_rounds=10\n",
    "    )\n",
    "        \n",
    "    y_pred = booster.predict(valid)\n",
    "    \n",
    "    rmse = root_mean_squared_error(y_val, y_pred)\n",
    "    mlflow.log_metric(\"rmse\", rmse)\n",
    "    \n",
    "    pathlib.Path(\"models\").mkdir(exist_ok=True)\n",
    "    with open(\"models/preprocessor.b\", \"wb\") as f_out:\n",
    "        pickle.dump(dv, f_out)\n",
    "        \n",
    "    mlflow.log_artifact(\"models/preprocessor.b\", artifact_path=\"preprocessor\")"
   ]
  }
 ],
 "metadata": {
  "kernelspec": {
   "display_name": "Python 3 (ipykernel)",
   "language": "python",
   "name": "python3"
  },
  "language_info": {
   "codemirror_mode": {
    "name": "ipython",
    "version": 3
   },
   "file_extension": ".py",
   "mimetype": "text/x-python",
   "name": "python",
   "nbconvert_exporter": "python",
   "pygments_lexer": "ipython3",
   "version": "3.12.4"
  }
 },
 "nbformat": 4,
 "nbformat_minor": 5
}
